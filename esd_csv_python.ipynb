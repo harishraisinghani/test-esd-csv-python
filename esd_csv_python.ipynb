{
  "nbformat": 4,
  "nbformat_minor": 0,
  "metadata": {
    "colab": {
      "name": "esd-csv-python.ipynb",
      "provenance": []
    },
    "kernelspec": {
      "name": "python3",
      "display_name": "Python 3"
    }
  },
  "cells": [
    {
      "cell_type": "markdown",
      "metadata": {
        "id": "UDD7Cijbr2qz"
      },
      "source": [
        "# Plotting Empty Set Dollar(ESD) Epoch Bonding Data\n",
        "\n",
        "We look at how ESD unlocked amounts trend with upcoming epochs\n",
        "\n",
        "Import dependencies:"
      ]
    },
    {
      "cell_type": "code",
      "metadata": {
        "id": "_k-2YOVHhwJF"
      },
      "source": [
        "import csv\n",
        "import matplotlib.pyplot as plt\n",
        "import pandas as pd\n",
        "import requests\n",
        "from datetime import datetime, timezone"
      ],
      "execution_count": 76,
      "outputs": []
    },
    {
      "cell_type": "markdown",
      "metadata": {
        "id": "Na6PYGY_sNNk"
      },
      "source": [
        "Define the epoch start, period and offsets:"
      ]
    },
    {
      "cell_type": "code",
      "metadata": {
        "id": "wXh98ogYsWmt"
      },
      "source": [
        "epoch_period = 28800\n",
        "epoch_start = 1602201600\n",
        "epoch_offset = 105"
      ],
      "execution_count": 77,
      "outputs": []
    },
    {
      "cell_type": "markdown",
      "metadata": {
        "id": "vT_unbLhtDqi"
      },
      "source": [
        "Next, we define some key global variables to use with the Covalent APIs:"
      ]
    },
    {
      "cell_type": "code",
      "metadata": {
        "id": "tEH0NhIEsYbL"
      },
      "source": [
        "API_KEY = 'u473736hfdf-347yfd-fdu34hg'\n",
        "\n",
        "starting_block = 1\n",
        "\n",
        "topic_address = '0x93530ac0ee8c50e696e13c5ac62355d0c0ba4bd943620d5bda1eb08b64ae7512'\n",
        "\n",
        "pool_sender_address = '0x4082D11E506e3250009A991061ACd2176077C88f'\n",
        "\n",
        "dao_sender_address = '0x443D2f2755DB5942601fa062Cc248aAA153313D3'"
      ],
      "execution_count": 78,
      "outputs": []
    },
    {
      "cell_type": "markdown",
      "metadata": {
        "id": "bp4p_i7Fveeu"
      },
      "source": [
        "Function for retrieving the latest block number:"
      ]
    },
    {
      "cell_type": "code",
      "metadata": {
        "id": "QREMxX0uu2o4"
      },
      "source": [
        "def get_latest_block_num():\n",
        "  covalent_block_api = 'https://api.covalenthq.com/v1/1/block_v2/latest'\n",
        "\n",
        "  payload = {\n",
        "      \"key\": API_KEY,\n",
        "      \"page-size\": 9999\n",
        "  }\n",
        "\n",
        "  block_request = requests.get(covalent_block_api, params=payload)\n",
        "  latest_block_number = block_request.json()['data']['items'][0]['height']\n",
        "  return(latest_block_number)\n",
        "\n",
        "\n"
      ],
      "execution_count": 79,
      "outputs": []
    },
    {
      "cell_type": "markdown",
      "metadata": {
        "id": "Kt2c1M_-0SFa"
      },
      "source": [
        "Function for getting the unbonded events for both the POOL and DAO:"
      ]
    },
    {
      "cell_type": "code",
      "metadata": {
        "id": "gbuLtIgb0MNz"
      },
      "source": [
        "def get_unbonded_events(lockup_epochs, type):\n",
        "    \n",
        "    latest_block = get_latest_block_num()\n",
        "    \n",
        "    covalent_topic_api = f'https://api.covalenthq.com/v1/1/events/topics/{topic_address}/'\n",
        "\n",
        "    sender_address = pool_sender_address if type == 'POOL' else dao_sender_address\n",
        "\n",
        "    payload = {\n",
        "        \"starting-block\": starting_block,\n",
        "        \"ending-block\": latest_block,\n",
        "        \"sender-address\": sender_address,\n",
        "        \"key\": API_KEY,\n",
        "        \"page-size\": 9999\n",
        "    }\n",
        "\n",
        "    r = requests.get(covalent_topic_api, params=payload)\n",
        "    data = r.json()\n",
        "    \n",
        "    # Filter out the json data\n",
        "    filtered_data = []\n",
        "\n",
        "    for item in data[\"data\"][\"items\"]:\n",
        "        epoch_block = int(item[\"decoded\"][\"params\"][1][\"value\"])\n",
        "        endtimestamp = datetime.fromtimestamp(\n",
        "                (epoch_start + (epoch_period * (epoch_block - epoch_offset)) + epoch_period * lockup_epochs), timezone.utc\n",
        "                ).strftime('%Y-%m-%d %H:%M')\n",
        "\n",
        "        filtered_data.append({\n",
        "            \"address\": item[\"decoded\"][\"params\"][0][\"value\"],\n",
        "            \"startEpoch\": epoch_block,\n",
        "            \"endTimestamp\": endtimestamp,\n",
        "            \"amount\": int(item[\"decoded\"][\"params\"][2][\"value\"]) / 1e18,\n",
        "            \"type\": type\n",
        "        })\n",
        "\n",
        "    return(filtered_data)"
      ],
      "execution_count": 111,
      "outputs": []
    },
    {
      "cell_type": "markdown",
      "metadata": {
        "id": "wjfB97Gc85lP"
      },
      "source": [
        "Function for writing a list of dictionaries to a CSV given the data and headers:"
      ]
    },
    {
      "cell_type": "code",
      "metadata": {
        "id": "ThwCn6tP9DNh"
      },
      "source": [
        "def write_csv(data, filename, headers):\n",
        "  with open(filename, 'w', newline='') as csvfile:\n",
        "        writer = csv.DictWriter(csvfile, fieldnames=headers)\n",
        "        writer.writeheader()\n",
        "\n",
        "        for item in data:\n",
        "            writer.writerow(item)\n",
        "            \n",
        "        print('Data written to CSV')\n"
      ],
      "execution_count": 112,
      "outputs": []
    },
    {
      "cell_type": "markdown",
      "metadata": {
        "id": "UkrbdxjW8pf2"
      },
      "source": [
        "Now the `main` function which calls for all the events:"
      ]
    },
    {
      "cell_type": "code",
      "metadata": {
        "id": "__qyoCjQ8wX_",
        "colab": {
          "base_uri": "https://localhost:8080/"
        },
        "outputId": "87225db6-cf7a-4972-e370-4968aea246a5"
      },
      "source": [
        "def main():\n",
        "    now_utc = datetime.utcnow().strftime('%Y-%m-%d %H:%M')\n",
        "\n",
        "    # Get unbonded events for next POOL lockup epochs:\n",
        "    pool_unbond_evt_items = get_unbonded_events(4,'POOL')\n",
        "\n",
        "    # Filter pool unbond events by those in the future from this point\n",
        "    filtered_pool_evts = [d for d in pool_unbond_evt_items if d['endTimestamp'] >= now_utc]\n",
        "\n",
        "    # Get unbonded events for next DAO lockup epochs:\n",
        "    dao_unbond_evt_items = get_unbonded_events(14, 'DAO')\n",
        "\n",
        "    # Filter dao unbond events by those in the future from this point\n",
        "    filtered_dao_evts = [d for d in dao_unbond_evt_items if d['endTimestamp'] >= now_utc]\n",
        "\n",
        "    # Combine events and reverse sort by endTimestamp\n",
        "    combined_evts = sorted(filtered_pool_evts + filtered_dao_evts, key = lambda i: i['endTimestamp'])\n",
        "\n",
        "    # Write data to CSV\n",
        "    csv_headers = ['address', 'startEpoch', 'endTimestamp', 'amount', 'type']\n",
        "    write_csv(combined_evts, 'data.csv', csv_headers)\n",
        "\n",
        "\n",
        "main()"
      ],
      "execution_count": 113,
      "outputs": [
        {
          "output_type": "stream",
          "text": [
            "Data written to CSV\n"
          ],
          "name": "stdout"
        }
      ]
    },
    {
      "cell_type": "markdown",
      "metadata": {
        "id": "4CCewqm_bfg3"
      },
      "source": [
        "The above function generates the `data.csv`. The next few steps create a bar chart using that data. \n",
        "\n",
        "## Bar Plots\n",
        "\n",
        "First we import the data as a dataframe. "
      ]
    },
    {
      "cell_type": "code",
      "metadata": {
        "id": "qDLZFoqJBbZM"
      },
      "source": [
        "df = pd.read_csv('data.csv')"
      ],
      "execution_count": 114,
      "outputs": []
    },
    {
      "cell_type": "markdown",
      "metadata": {
        "id": "g7q5PMQvbvbd"
      },
      "source": [
        "Next, we filter out the data frame by `type` and plot the `'POOL'` and `'DAO'` data separately:"
      ]
    },
    {
      "cell_type": "code",
      "metadata": {
        "colab": {
          "base_uri": "https://localhost:8080/",
          "height": 1000
        },
        "id": "wr3OxXC_RCGu",
        "outputId": "d08a4607-544f-466b-9c31-8c71c7125065"
      },
      "source": [
        "pool_df = df[df['type'] == 'POOL']\n",
        "dao_df = df[df['type'] == 'DAO']\n",
        "\n",
        "pool_df = pool_df.groupby('endTimestamp')['amount'].sum()\n",
        "dao_df = dao_df.groupby('endTimestamp')['amount'].sum()\n",
        "\n",
        "fig, ax1 = plt.subplots(figsize=(16,9))\n",
        "\n",
        "ax1 = pool_df.plot(kind='bar', color=\"indigo\", fontsize=13)\n",
        "ax1.set_title(\"Upcoming POOL Unlocks\", fontsize=22)\n",
        "ax1.set_ylabel(\"ESD Locked\", fontsize=15)\n",
        "\n",
        "\n",
        "fig, ax2 = plt.subplots(figsize=(16,9))\n",
        "ax2 = dao_df.plot(kind='bar', color=\"indigo\", fontsize=13)\n",
        "ax2.set_title(\"Upcoming DAO Unlocks\", fontsize=22)\n",
        "ax2.set_ylabel(\"ESD Locked\", fontsize=15)\n",
        "\n",
        "plt.show()"
      ],
      "execution_count": 115,
      "outputs": [
        {
          "output_type": "display_data",
          "data": {
            "image/png": "[encoded data removed]",
            "text/plain": [
              "<Figure size 1152x648 with 1 Axes>"
            ]
          },
          "metadata": {
            "tags": [],
            "needs_background": "light"
          }
        },
        {
          "output_type": "display_data",
          "data": {
            "image/png": "[encoded data removed]",
            "text/plain": [
              "<Figure size 1152x648 with 1 Axes>"
            ]
          },
          "metadata": {
            "tags": [],
            "needs_background": "light"
          }
        }
      ]
    }
  ]
}